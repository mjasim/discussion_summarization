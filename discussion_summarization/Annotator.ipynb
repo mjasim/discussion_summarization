{
 "cells": [
  {
   "cell_type": "code",
   "execution_count": 2,
   "metadata": {},
   "outputs": [],
   "source": [
    "import tkinter as tk\n",
    "from tkinter import *\n",
    "from tkinter import font\n",
    "import pandas as pd"
   ]
  },
  {
   "cell_type": "code",
   "execution_count": 3,
   "metadata": {},
   "outputs": [],
   "source": [
    "df = pd.read_json('communitycrit_revised.json')\n",
    "\n",
    "text = []\n",
    "\n",
    "for i in df['ideas']:\n",
    "    for j in i['tasks']:\n",
    "        for k in j['comments']:\n",
    "            if j['id'] == '12':\n",
    "                text.append((i['name'], j['name'], k['question'], k['comment']))\n",
    "            else:\n",
    "                text.append((i['name'], j['name'], k['comment']))"
   ]
  },
  {
   "cell_type": "code",
   "execution_count": 6,
   "metadata": {},
   "outputs": [],
   "source": [
    "main = Tk() \n",
    "\n",
    "ourMessage ='This is our Message'\n",
    "messageVar = Message(main, text = ourMessage, font=('helvetica', 30)) \n",
    "messageVar.config(bg='lightgreen') \n",
    "messageVar.pack( ) \n",
    "main.mainloop( )"
   ]
  },
  {
   "cell_type": "code",
   "execution_count": null,
   "metadata": {},
   "outputs": [],
   "source": []
  }
 ],
 "metadata": {
  "kernelspec": {
   "display_name": "Python 3",
   "language": "python",
   "name": "python3"
  },
  "language_info": {
   "codemirror_mode": {
    "name": "ipython",
    "version": 3
   },
   "file_extension": ".py",
   "mimetype": "text/x-python",
   "name": "python",
   "nbconvert_exporter": "python",
   "pygments_lexer": "ipython3",
   "version": "3.6.8"
  }
 },
 "nbformat": 4,
 "nbformat_minor": 2
}
