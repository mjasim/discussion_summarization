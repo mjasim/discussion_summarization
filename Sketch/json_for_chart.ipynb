{
 "cells": [
  {
   "cell_type": "code",
   "execution_count": 1,
   "metadata": {},
   "outputs": [],
   "source": [
    "import pandas as pd\n",
    "from collections import Counter\n",
    "import spacy\n",
    "sp = spacy.load('en_core_web_sm')\n",
    "import nltk \n",
    "from nltk.tokenize import sent_tokenize, word_tokenize\n",
    "from nltk.corpus import stopwords\n",
    "stop_words = stopwords.words('english')\n",
    "stop_words.extend(['from', 'subject', 're', 'edu', 'use', 'idea', 'proposal', 'plastic'])\n",
    "import gensim.downloader as api\n",
    "import gensim\n",
    "from gensim.utils import simple_preprocess\n",
    "import json\n",
    "import pytextrank\n",
    "import re"
   ]
  },
  {
   "cell_type": "code",
   "execution_count": 13,
   "metadata": {},
   "outputs": [],
   "source": [
    "# run only the first time\n",
    "word_vectors = api.load(\"glove-wiki-gigaword-100\")"
   ]
  },
  {
   "cell_type": "code",
   "execution_count": 3,
   "metadata": {},
   "outputs": [
    {
     "data": {
      "text/html": [
       "<div>\n",
       "<style scoped>\n",
       "    .dataframe tbody tr th:only-of-type {\n",
       "        vertical-align: middle;\n",
       "    }\n",
       "\n",
       "    .dataframe tbody tr th {\n",
       "        vertical-align: top;\n",
       "    }\n",
       "\n",
       "    .dataframe thead th {\n",
       "        text-align: right;\n",
       "    }\n",
       "</style>\n",
       "<table border=\"1\" class=\"dataframe\">\n",
       "  <thead>\n",
       "    <tr style=\"text-align: right;\">\n",
       "      <th></th>\n",
       "      <th>idea</th>\n",
       "      <th>description</th>\n",
       "      <th>task</th>\n",
       "      <th>comment</th>\n",
       "      <th>dominant_topic</th>\n",
       "      <th>topic_perc_contrib</th>\n",
       "      <th>keywords</th>\n",
       "      <th>sentiment</th>\n",
       "      <th>sentiment_score</th>\n",
       "      <th>presentation</th>\n",
       "    </tr>\n",
       "  </thead>\n",
       "  <tbody>\n",
       "    <tr>\n",
       "      <th>0</th>\n",
       "      <td>Build a tower</td>\n",
       "      <td>Build a tower in the center of El Nudillo. Ske...</td>\n",
       "      <td>Comment on the Idea</td>\n",
       "      <td>A structure or monument at the Nudillo could i...</td>\n",
       "      <td>2</td>\n",
       "      <td>0.1859</td>\n",
       "      <td>impact, people, chime, village, fine, connecti...</td>\n",
       "      <td>positive</td>\n",
       "      <td>0.100000</td>\n",
       "      <td>A structure or monument at the Nudillo could i...</td>\n",
       "    </tr>\n",
       "    <tr>\n",
       "      <th>1</th>\n",
       "      <td>Build a tower</td>\n",
       "      <td>Build a tower in the center of El Nudillo. Ske...</td>\n",
       "      <td>Comment on the Idea</td>\n",
       "      <td>The built form should be lit at night.</td>\n",
       "      <td>1</td>\n",
       "      <td>0.2016</td>\n",
       "      <td>city, build, live, road, solution, beauty, put...</td>\n",
       "      <td>positive</td>\n",
       "      <td>0.100000</td>\n",
       "      <td>The built form should be lit at night.</td>\n",
       "    </tr>\n",
       "    <tr>\n",
       "      <th>2</th>\n",
       "      <td>Build a tower</td>\n",
       "      <td>Build a tower in the center of El Nudillo. Ske...</td>\n",
       "      <td>Comment on the Idea</td>\n",
       "      <td>More than a plaza, the space can be activated ...</td>\n",
       "      <td>4</td>\n",
       "      <td>0.2037</td>\n",
       "      <td>structure, good, realm, car, bottom, gray, par...</td>\n",
       "      <td>positive</td>\n",
       "      <td>0.085714</td>\n",
       "      <td>More than a plaza, the space can be activated ...</td>\n",
       "    </tr>\n",
       "    <tr>\n",
       "      <th>3</th>\n",
       "      <td>Build a tower</td>\n",
       "      <td>Build a tower in the center of El Nudillo. Ske...</td>\n",
       "      <td>Comment on the Idea</td>\n",
       "      <td>The structure could incorporate an observation...</td>\n",
       "      <td>0</td>\n",
       "      <td>0.2163</td>\n",
       "      <td>place, community, increase, gather, port, dens...</td>\n",
       "      <td>negative</td>\n",
       "      <td>-0.012500</td>\n",
       "      <td>It could echo the tower elements of the Califo...</td>\n",
       "    </tr>\n",
       "    <tr>\n",
       "      <th>4</th>\n",
       "      <td>Build a tower</td>\n",
       "      <td>Build a tower in the center of El Nudillo. Ske...</td>\n",
       "      <td>Comment on the Idea</td>\n",
       "      <td>I think its a great idea</td>\n",
       "      <td>0</td>\n",
       "      <td>0.1830</td>\n",
       "      <td>place, community, increase, gather, port, dens...</td>\n",
       "      <td>positive</td>\n",
       "      <td>0.300000</td>\n",
       "      <td>I think its a great idea</td>\n",
       "    </tr>\n",
       "  </tbody>\n",
       "</table>\n",
       "</div>"
      ],
      "text/plain": [
       "            idea                                        description  \\\n",
       "0  Build a tower  Build a tower in the center of El Nudillo. Ske...   \n",
       "1  Build a tower  Build a tower in the center of El Nudillo. Ske...   \n",
       "2  Build a tower  Build a tower in the center of El Nudillo. Ske...   \n",
       "3  Build a tower  Build a tower in the center of El Nudillo. Ske...   \n",
       "4  Build a tower  Build a tower in the center of El Nudillo. Ske...   \n",
       "\n",
       "                  task                                            comment  \\\n",
       "0  Comment on the Idea  A structure or monument at the Nudillo could i...   \n",
       "1  Comment on the Idea             The built form should be lit at night.   \n",
       "2  Comment on the Idea  More than a plaza, the space can be activated ...   \n",
       "3  Comment on the Idea  The structure could incorporate an observation...   \n",
       "4  Comment on the Idea                           I think its a great idea   \n",
       "\n",
       "   dominant_topic  topic_perc_contrib  \\\n",
       "0               2              0.1859   \n",
       "1               1              0.2016   \n",
       "2               4              0.2037   \n",
       "3               0              0.2163   \n",
       "4               0              0.1830   \n",
       "\n",
       "                                            keywords sentiment  \\\n",
       "0  impact, people, chime, village, fine, connecti...  positive   \n",
       "1  city, build, live, road, solution, beauty, put...  positive   \n",
       "2  structure, good, realm, car, bottom, gray, par...  positive   \n",
       "3  place, community, increase, gather, port, dens...  negative   \n",
       "4  place, community, increase, gather, port, dens...  positive   \n",
       "\n",
       "   sentiment_score                                       presentation  \n",
       "0         0.100000  A structure or monument at the Nudillo could i...  \n",
       "1         0.100000             The built form should be lit at night.  \n",
       "2         0.085714  More than a plaza, the space can be activated ...  \n",
       "3        -0.012500  It could echo the tower elements of the Califo...  \n",
       "4         0.300000                           I think its a great idea  "
      ]
     },
     "execution_count": 3,
     "metadata": {},
     "output_type": "execute_result"
    }
   ],
   "source": [
    "df = pd.read_json('cc_sent.json')\n",
    "# df = pd.read_json('env_sent.json')\n",
    "\n",
    "df.head(5)"
   ]
  },
  {
   "cell_type": "code",
   "execution_count": 4,
   "metadata": {},
   "outputs": [],
   "source": [
    "# clean text\n",
    "\n",
    "def clean_and_embed (data):\n",
    "    data = re.sub('\\S*@\\S*\\s?', '', data) \n",
    "    data = re.sub('\\s+', ' ', data)\n",
    "    data = re.sub(\"\\'\", \"\", data)\n",
    "    text = sp(data)\n",
    "    tokens = [word.text for word in text]\n",
    "    tokens = [word for word in simple_preprocess(str(text)) if word not in stop_words]\n",
    "    text = ' '.join(word for word in tokens)\n",
    "#     print(text)\n",
    "    return text"
   ]
  },
  {
   "cell_type": "code",
   "execution_count": 5,
   "metadata": {},
   "outputs": [],
   "source": [
    "# find number of comments that contain the topic keyword\n",
    "\n",
    "def get_keyword_leaf_size(k, topic_rows):    \n",
    "    count = 0\n",
    "        \n",
    "    for c in topic_rows[\"comment\"]:\n",
    "        text = (clean_and_embed(c))\n",
    "                \n",
    "        if k in text:\n",
    "            count += 1\n",
    "        else:\n",
    "            if k in word_vectors.wv.vocab:\n",
    "                similar_keys = word_vectors.most_similar(positive=[k]) \n",
    "                for i in similar_keys:\n",
    "                    if i[0] in text:\n",
    "                        count += 1\n",
    "    return count"
   ]
  },
  {
   "cell_type": "code",
   "execution_count": 6,
   "metadata": {},
   "outputs": [],
   "source": [
    "# find keyphrase to represent topic sentences\n",
    "\n",
    "def get_keyphrase(prop_rows, t):\n",
    "    text = \"\"\n",
    "    rows = prop_rows.loc[prop_rows['dominant_topic'] == t]\n",
    "    for c in rows[\"comment\"]:\n",
    "        text = text + \" \" + c\n",
    "        \n",
    "    nlp = spacy.load(\"en_core_web_sm\")\n",
    "    tr = pytextrank.TextRank(logger=None)\n",
    "    nlp.add_pipe(tr.PipelineComponent, name=\"textrank\", last=True)\n",
    "    doc = nlp(text)\n",
    "    \n",
    "    if (doc._.phrases):\n",
    "        return doc._.phrases[0].text\n",
    "    else:\n",
    "        return rows.iloc[0][\"keywords\"].split(\", \")[0]"
   ]
  },
  {
   "cell_type": "code",
   "execution_count": 7,
   "metadata": {},
   "outputs": [],
   "source": [
    "# prop_rows = df.loc[df['idea'] == \"Public Art\"]\n",
    "# topics = Counter(prop_rows[\"dominant_topic\"])\n",
    "\n",
    "# topic_rows = df.loc[(df['idea'] == \"Public Art\") & (df['dominant_topic'] == t)]\n",
    "\n",
    "# keywords = (topic_rows[\"keywords\"].iloc[0]).split(\", \")\n",
    "# for k in keywords:\n",
    "#     get_keyword_leaf_size(k, topic_rows)"
   ]
  },
  {
   "cell_type": "code",
   "execution_count": 8,
   "metadata": {},
   "outputs": [],
   "source": [
    "# root\n",
    "\n",
    "cc_obj = {}\n",
    "cc_obj[\"name\"] = \"Proposals\"\n",
    "cc_obj[\"children\"] = []"
   ]
  },
  {
   "cell_type": "code",
   "execution_count": 9,
   "metadata": {},
   "outputs": [],
   "source": [
    "# rows[\"keywords\"][0].split(\", \")[0]"
   ]
  },
  {
   "cell_type": "code",
   "execution_count": 10,
   "metadata": {},
   "outputs": [],
   "source": [
    "# proposals\n",
    "\n",
    "proposals = Counter(df[\"idea\"])\n",
    "\n",
    "for p in proposals:\n",
    "    child_prop = {}\n",
    "    child_prop[\"name\"] = p\n",
    "    child_prop[\"children\"] = []\n",
    "    cc_obj[\"children\"].append(child_prop)"
   ]
  },
  {
   "cell_type": "code",
   "execution_count": 11,
   "metadata": {},
   "outputs": [],
   "source": [
    "# topics\n",
    "\n",
    "for p in proposals:\n",
    "    prop_rows = df.loc[df['idea'] == p]\n",
    "    topics = Counter(prop_rows[\"dominant_topic\"])\n",
    "    for t in topics:\n",
    "        for i in range (0, len(cc_obj[\"children\"])):\n",
    "            if cc_obj[\"children\"][i][\"name\"] == p:\n",
    "                child_top = {}\n",
    "                child_top[\"dom_top\"] = t\n",
    "                child_top[\"name\"] = get_keyphrase(prop_rows, t)\n",
    "                child_top[\"children\"] = []\n",
    "                cc_obj[\"children\"][i][\"children\"].append(child_top)"
   ]
  },
  {
   "cell_type": "code",
   "execution_count": null,
   "metadata": {},
   "outputs": [],
   "source": []
  },
  {
   "cell_type": "code",
   "execution_count": 14,
   "metadata": {},
   "outputs": [
    {
     "name": "stderr",
     "output_type": "stream",
     "text": [
      "/home/mjasim/environments/env3.6/lib/python3.6/site-packages/ipykernel_launcher.py:12: DeprecationWarning: Call to deprecated `wv` (Attribute will be removed in 4.0.0, use self instead).\n",
      "  if sys.path[0] == '':\n"
     ]
    }
   ],
   "source": [
    "# keywords\n",
    "\n",
    "for p in proposals:\n",
    "    prop_rows = df.loc[df['idea'] == p]\n",
    "    topics = Counter(prop_rows[\"dominant_topic\"])\n",
    "    for t in topics:\n",
    "        topic_rows = df.loc[(df['idea'] == p) & (df['dominant_topic'] == t)]\n",
    "        keywords = (topic_rows[\"keywords\"].iloc[0]).split(\", \")\n",
    "        for k in keywords:\n",
    "            if get_keyword_leaf_size(k, topic_rows) > 0:\n",
    "                for i in range (0, len(cc_obj[\"children\"])):\n",
    "                    if cc_obj[\"children\"][i][\"name\"] == p:\n",
    "                        for j in range(0, len(cc_obj[\"children\"][i][\"children\"])):\n",
    "                            if cc_obj[\"children\"][i][\"children\"][j][\"dom_top\"] == t:\n",
    "                                child_keyword = {}\n",
    "                                child_keyword[\"name\"] = k\n",
    "                                child_keyword[\"size\"] = get_keyword_leaf_size(k, topic_rows)\n",
    "                                cc_obj[\"children\"][i][\"children\"][j][\"children\"].append(child_keyword)"
   ]
  },
  {
   "cell_type": "code",
   "execution_count": 16,
   "metadata": {},
   "outputs": [],
   "source": [
    "# cc_obj"
   ]
  },
  {
   "cell_type": "code",
   "execution_count": 132,
   "metadata": {},
   "outputs": [],
   "source": [
    "# with open('cc_viz.json', 'w') as outfile:\n",
    "#     json.dump(cc_obj, outfile)\n",
    "\n",
    "# with open('env_viz.json', 'w') as outfile:\n",
    "#     json.dump(cc_obj, outfile)"
   ]
  },
  {
   "cell_type": "code",
   "execution_count": null,
   "metadata": {},
   "outputs": [],
   "source": []
  },
  {
   "cell_type": "code",
   "execution_count": null,
   "metadata": {},
   "outputs": [],
   "source": []
  },
  {
   "cell_type": "code",
   "execution_count": 53,
   "metadata": {},
   "outputs": [],
   "source": [
    "# for forced directed graph\n",
    "\n",
    "fd_obj_list = []\n",
    "proposals = Counter(df[\"idea\"])\n",
    "for p in proposals:\n",
    "    prop_obj = {}\n",
    "    prop_nodes = []\n",
    "    prop_links = []\n",
    "    prop_rows = df.loc[df['idea'] == p]\n",
    "    topics = set(prop_rows[\"dominant_topic\"])\n",
    "    for t in topics:\n",
    "        for idx, row in prop_rows.iterrows():\n",
    "            if(row['dominant_topic' == t]):\n",
    "                kws = row['keywords'].split(', ')\n",
    "                break;\n",
    "    \n",
    "        topic_rt = get_keyphrase(prop_rows, t)\n",
    "        prop_nodes.append({\"id\": topic_rt + \"_\" + str(t), \"group\": t, \"label\": topic_rt})\n",
    "        for k in kws:\n",
    "            prop_nodes.append({\"id\": k + \"_\" + str(t), \"group\": t, \"label\": k})\n",
    "            prop_links.append({\"source\": k + \"_\" + str(t), \"target\": topic_rt + \"_\" + str(t), \"value\": 1})\n",
    "    \n",
    "    prop_obj = {\"nodes\": prop_nodes, \"links\": prop_links}\n",
    "    \n",
    "    fd_obj_list.append(prop_obj)\n",
    "    \n",
    "#     print(topics)\n",
    "# for t in topics:\n",
    "#     for i in range (0, len(cc_obj[\"children\"])):\n",
    "#         if cc_obj[\"children\"][i][\"name\"] == p:\n",
    "#             child_top = {}\n",
    "#             child_top[\"dom_top\"] = t\n",
    "#             child_top[\"name\"] = get_keyphrase(prop_rows, t)\n",
    "#             child_top[\"children\"] = []\n",
    "#             cc_obj[\"children\"][i][\"children\"].append(child_top)\n",
    "                "
   ]
  },
  {
   "cell_type": "code",
   "execution_count": 54,
   "metadata": {},
   "outputs": [],
   "source": [
    "with open('cc_fd_graph.json', 'w') as outfile:\n",
    "    json.dump(fd_obj_list, outfile)"
   ]
  },
  {
   "cell_type": "code",
   "execution_count": 55,
   "metadata": {},
   "outputs": [
    {
     "data": {
      "text/plain": [
       "Counter({'Build a tower': 36,\n",
       "         'Public Art': 23,\n",
       "         'Roundabout': 26,\n",
       "         'Huge Fountain': 26,\n",
       "         'Interactive Art': 28,\n",
       "         'EL Parquecito': 16,\n",
       "         'Pedestrian Destination': 20,\n",
       "         'Promenade Real': 25,\n",
       "         'Platform connected with bridges': 34,\n",
       "         'Triangle platform with 3 pillars and flat bridge': 1,\n",
       "         'Zipline': 21,\n",
       "         'Transit Hub': 21,\n",
       "         'Gateway': 7,\n",
       "         'Connecting the past to the future': 19,\n",
       "         'Cart before the Horse': 6,\n",
       "         'Call the Area Something Else.': 3,\n",
       "         'The Diamond': 4,\n",
       "         'The Lyre': 5,\n",
       "         'EV / Barrio Market': 23})"
      ]
     },
     "execution_count": 55,
     "metadata": {},
     "output_type": "execute_result"
    }
   ],
   "source": [
    "proposals"
   ]
  },
  {
   "cell_type": "code",
   "execution_count": null,
   "metadata": {},
   "outputs": [],
   "source": []
  }
 ],
 "metadata": {
  "kernelspec": {
   "display_name": "env3.6",
   "language": "python",
   "name": "env3.6"
  },
  "language_info": {
   "codemirror_mode": {
    "name": "ipython",
    "version": 3
   },
   "file_extension": ".py",
   "mimetype": "text/x-python",
   "name": "python",
   "nbconvert_exporter": "python",
   "pygments_lexer": "ipython3",
   "version": "3.6.8"
  }
 },
 "nbformat": 4,
 "nbformat_minor": 2
}
